{
 "cells": [
  {
   "cell_type": "code",
   "execution_count": 2,
   "metadata": {},
   "outputs": [],
   "source": [
    "from google.cloud import storage\n",
    "import os"
   ]
  },
  {
   "cell_type": "code",
   "execution_count": 3,
   "metadata": {},
   "outputs": [],
   "source": [
    "client = storage.Client(project='My First Project')\n",
    "bucket = client.get_bucket('wfwijaya-fellowship')\n",
    "blob = bucket.blob('test.jpg')\n",
    "blob.upload_from_filename('D:/0-IYKRA/PRACTICE CASE/day1/test.jpg')"
   ]
  }
 ],
 "metadata": {
  "kernelspec": {
   "display_name": "Python 3.9.13 ('iykra')",
   "language": "python",
   "name": "python3"
  },
  "language_info": {
   "codemirror_mode": {
    "name": "ipython",
    "version": 3
   },
   "file_extension": ".py",
   "mimetype": "text/x-python",
   "name": "python",
   "nbconvert_exporter": "python",
   "pygments_lexer": "ipython3",
   "version": "3.9.13"
  },
  "orig_nbformat": 4,
  "vscode": {
   "interpreter": {
    "hash": "0ef828dca2fa5699024647aaa2e480f8b137d5ae1a032981e5d45b537b90b986"
   }
  }
 },
 "nbformat": 4,
 "nbformat_minor": 2
}
