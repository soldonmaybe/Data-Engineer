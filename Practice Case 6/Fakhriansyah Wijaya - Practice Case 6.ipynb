{
 "cells": [
  {
   "cell_type": "markdown",
   "metadata": {},
   "source": [
    "# Import Dependencies"
   ]
  },
  {
   "cell_type": "code",
   "execution_count": 1,
   "metadata": {},
   "outputs": [],
   "source": [
    "import pyspark\n",
    "import wget\n",
    "from pyspark.sql import SparkSession\n",
    "from pyspark.sql import functions\n",
    "from pyspark.sql.functions import asc, desc\n",
    "from pyspark.sql.window import Window\n",
    "from pyspark.sql.functions import col, row_number"
   ]
  },
  {
   "cell_type": "markdown",
   "metadata": {},
   "source": [
    "# Extracting Data"
   ]
  },
  {
   "cell_type": "code",
   "execution_count": 2,
   "metadata": {},
   "outputs": [],
   "source": [
    "url = 'https://d37ci6vzurychx.cloudfront.net/trip-data/fhvhv_tripdata_2021-02.parquet'\n",
    "df = wget.download(url)"
   ]
  },
  {
   "cell_type": "code",
   "execution_count": 3,
   "metadata": {},
   "outputs": [],
   "source": [
    "spark = SparkSession.builder \\\n",
    "    .master(\"local[*]\") \\\n",
    "    .appName('project1') \\\n",
    "    .getOrCreate()"
   ]
  },
  {
   "cell_type": "code",
   "execution_count": 4,
   "metadata": {},
   "outputs": [],
   "source": [
    "df1 = spark.read.parquet('fhvhv_tripdata_2021-02.parquet')"
   ]
  },
  {
   "cell_type": "code",
   "execution_count": 5,
   "metadata": {},
   "outputs": [
    {
     "data": {
      "text/plain": [
       "StructType([StructField('hvfhs_license_num', StringType(), True), StructField('dispatching_base_num', StringType(), True), StructField('originating_base_num', StringType(), True), StructField('request_datetime', TimestampType(), True), StructField('on_scene_datetime', TimestampType(), True), StructField('pickup_datetime', TimestampType(), True), StructField('dropoff_datetime', TimestampType(), True), StructField('PULocationID', LongType(), True), StructField('DOLocationID', LongType(), True), StructField('trip_miles', DoubleType(), True), StructField('trip_time', LongType(), True), StructField('base_passenger_fare', DoubleType(), True), StructField('tolls', DoubleType(), True), StructField('bcf', DoubleType(), True), StructField('sales_tax', DoubleType(), True), StructField('congestion_surcharge', DoubleType(), True), StructField('airport_fee', DoubleType(), True), StructField('tips', DoubleType(), True), StructField('driver_pay', DoubleType(), True), StructField('shared_request_flag', StringType(), True), StructField('shared_match_flag', StringType(), True), StructField('access_a_ride_flag', StringType(), True), StructField('wav_request_flag', StringType(), True), StructField('wav_match_flag', StringType(), True)])"
      ]
     },
     "execution_count": 5,
     "metadata": {},
     "output_type": "execute_result"
    }
   ],
   "source": [
    "df1.schema"
   ]
  },
  {
   "cell_type": "markdown",
   "metadata": {},
   "source": [
    "# How many taxi trips were there on February 15?"
   ]
  },
  {
   "cell_type": "markdown",
   "metadata": {},
   "source": [
    "For trips on February 15, we could count in different approach : \n",
    "Request on February 15 :\n",
    "There could be request on February 15, but pick-up on February 16.\n",
    "Pick-up on February 15 :\n",
    "There could be pick-up on February 15, but drop-off on February 16,\n",
    "Drop-off on February 15 :\n",
    "There could be pick-up on February 14, but drop-off on February 15."
   ]
  },
  {
   "cell_type": "code",
   "execution_count": 6,
   "metadata": {},
   "outputs": [],
   "source": [
    "q1 = df1.select('*') \\\n",
    "        .filter((df1['request_datetime']>='2021-02-15 00:00:00 UTC')&(df1['request_datetime']<'2021-02-16 00:00:00 UTC') \\\n",
    "            &(df1['pickup_datetime']>='2021-02-15 00:00:00 UTC')&(df1['pickup_datetime']<'2021-02-16 00:00:00 UTC') \\\n",
    "                &(df1['dropoff_datetime']>='2021-02-15 00:00:00 UTC')&(df1['dropoff_datetime']<'2021-02-16 00:00:00 UTC'))"
   ]
  },
  {
   "cell_type": "code",
   "execution_count": 7,
   "metadata": {},
   "outputs": [
    {
     "data": {
      "text/plain": [
       "363019"
      ]
     },
     "execution_count": 7,
     "metadata": {},
     "output_type": "execute_result"
    }
   ],
   "source": [
    "q1.count()"
   ]
  },
  {
   "cell_type": "markdown",
   "metadata": {},
   "source": [
    "There are 363019 Taxi Trips on February 15"
   ]
  },
  {
   "cell_type": "markdown",
   "metadata": {},
   "source": [
    "# Find the longest trip for each day ?"
   ]
  },
  {
   "cell_type": "markdown",
   "metadata": {},
   "source": [
    "As the datetime using date & time, we should change it into date only. Note that we are not cleaning the dataset thus null values will appear."
   ]
  },
  {
   "cell_type": "code",
   "execution_count": 8,
   "metadata": {},
   "outputs": [
    {
     "name": "stdout",
     "output_type": "stream",
     "text": [
      "+---------------+---------------+\n",
      "|pickup_datetime|max(trip_miles)|\n",
      "+---------------+---------------+\n",
      "|     2021-02-01|         212.43|\n",
      "|     2021-02-02|         282.78|\n",
      "|     2021-02-03|         184.26|\n",
      "|     2021-02-04|         203.97|\n",
      "|     2021-02-05|         245.35|\n",
      "|     2021-02-06|         275.32|\n",
      "|     2021-02-07|         216.36|\n",
      "|     2021-02-08|          253.5|\n",
      "|     2021-02-09|         480.73|\n",
      "|     2021-02-10|          512.5|\n",
      "|     2021-02-11|         240.66|\n",
      "|     2021-02-12|         250.11|\n",
      "|     2021-02-13|         226.24|\n",
      "|     2021-02-14|         207.44|\n",
      "|     2021-02-15|        173.582|\n",
      "|     2021-02-16|        307.661|\n",
      "|     2021-02-17|         324.19|\n",
      "|     2021-02-18|         527.11|\n",
      "|     2021-02-19|         224.33|\n",
      "|     2021-02-20|         329.16|\n",
      "+---------------+---------------+\n",
      "only showing top 20 rows\n",
      "\n"
     ]
    }
   ],
   "source": [
    "q2 = df1.withColumn('pickup_datetime',functions.to_date(df1.pickup_datetime)) \\\n",
    "        .groupBy('pickup_datetime') \\\n",
    "            .max('trip_miles') \\\n",
    "                .sort(asc('pickup_datetime')) \\\n",
    "                    .show()"
   ]
  },
  {
   "cell_type": "markdown",
   "metadata": {},
   "source": [
    "Tabel above shows the longest trip for each day from February 1 to March 1"
   ]
  },
  {
   "cell_type": "markdown",
   "metadata": {},
   "source": [
    "# Find Top 5 Most frequent `dispatching_base_num` !"
   ]
  },
  {
   "cell_type": "code",
   "execution_count": 9,
   "metadata": {},
   "outputs": [
    {
     "name": "stdout",
     "output_type": "stream",
     "text": [
      "+--------------------+--------+\n",
      "|dispatching_base_num|   count|\n",
      "+--------------------+--------+\n",
      "|                null|11613942|\n",
      "|              B02510| 3233664|\n",
      "|              B02764|  965568|\n",
      "|              B02872|  882689|\n",
      "|              B02875|  685390|\n",
      "|              B02765|  559768|\n",
      "+--------------------+--------+\n",
      "only showing top 6 rows\n",
      "\n"
     ]
    }
   ],
   "source": [
    "# We need to count the frequency for every dispatching_base_num\n",
    "q3 = df1.cube('dispatching_base_num') \\\n",
    "                    .count() \\\n",
    "                        .orderBy(functions.col('count').desc()) \\\n",
    "                            .show(6)"
   ]
  },
  {
   "cell_type": "markdown",
   "metadata": {},
   "source": [
    "Table above show top 5 most frequent `dispatching_base_num`. Ignore the `null` because 11.613.942 is the total data in the whole tabel (fhvhv_tripdata_2021-02-1)"
   ]
  },
  {
   "cell_type": "markdown",
   "metadata": {},
   "source": [
    "# Find Top 5 Most common location pairs (`PUlocationID` and `DOlocationID`) !"
   ]
  },
  {
   "cell_type": "code",
   "execution_count": 10,
   "metadata": {},
   "outputs": [
    {
     "name": "stdout",
     "output_type": "stream",
     "text": [
      "+------------+------------+-----+\n",
      "|PUlocationID|DOlocationID|count|\n",
      "+------------+------------+-----+\n",
      "|          76|          76|45041|\n",
      "|          26|          26|37329|\n",
      "|          39|          39|28026|\n",
      "|          61|          61|25976|\n",
      "|          14|          14|17934|\n",
      "+------------+------------+-----+\n",
      "only showing top 5 rows\n",
      "\n"
     ]
    }
   ],
   "source": [
    "q4 = df1.groupBy(['PUlocationID','DOlocationID']) \\\n",
    "            .count() \\\n",
    "                .orderBy(functions.col('count').desc()) \\\n",
    "                    .show(5)"
   ]
  },
  {
   "cell_type": "markdown",
   "metadata": {},
   "source": [
    "Table above show top 5 most frequent pairing in `PUlocationID` and `DOlocationID`"
   ]
  },
  {
   "cell_type": "markdown",
   "metadata": {},
   "source": [
    "# Write to BigQuery"
   ]
  },
  {
   "cell_type": "code",
   "execution_count": null,
   "metadata": {},
   "outputs": [],
   "source": [
    "q1.write.format('bigquery').option('table','firm-pentameter-363006.ny_taxi.q1').save()"
   ]
  },
  {
   "cell_type": "code",
   "execution_count": null,
   "metadata": {},
   "outputs": [],
   "source": [
    "q2.write.format('bigquery').option('table','firm-pentameter-363006.ny_taxi.q2').save()"
   ]
  },
  {
   "cell_type": "code",
   "execution_count": null,
   "metadata": {},
   "outputs": [],
   "source": [
    "q3.write.format('bigquery').option('table','firm-pentameter-363006.ny_taxi.q3').save()"
   ]
  },
  {
   "cell_type": "code",
   "execution_count": null,
   "metadata": {},
   "outputs": [],
   "source": [
    "q4.write.format('bigquery').option('table','firm-pentameter-363006.ny_taxi.q4').save()"
   ]
  }
 ],
 "metadata": {
  "kernelspec": {
   "display_name": "Python 3.9.13 ('iykra')",
   "language": "python",
   "name": "python3"
  },
  "language_info": {
   "codemirror_mode": {
    "name": "ipython",
    "version": 3
   },
   "file_extension": ".py",
   "mimetype": "text/x-python",
   "name": "python",
   "nbconvert_exporter": "python",
   "pygments_lexer": "ipython3",
   "version": "3.9.13"
  },
  "orig_nbformat": 4,
  "vscode": {
   "interpreter": {
    "hash": "0ef828dca2fa5699024647aaa2e480f8b137d5ae1a032981e5d45b537b90b986"
   }
  }
 },
 "nbformat": 4,
 "nbformat_minor": 2
}
